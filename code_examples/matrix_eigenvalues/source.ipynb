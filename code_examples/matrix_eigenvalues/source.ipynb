{
 "cells": [
  {
   "cell_type": "markdown",
   "metadata": {},
   "source": [
    "# Matrix eigenvalues through Covalent\n",
    "\n",
    "In this simple workflow we look to do some compute heavy operations of computing lots of matrix eigenvalues through Covalent. As an example we will also demonstrate the use of remote executors to offload certain compute heavy parts of the workflow and aggregate the results on the local machine\n",
    "\n",
    "### Eigenvalues\n",
    "\n",
    "Eigenvalues of matrices enclose special properties about a matrix and are quite relevant in quantum and classical physics. In this workflow we compute the eigenvalues of `5 x 5` matrices constructed by randomly sampling numbers from the set `[-1, 0, 1]`"
   ]
  },
  {
   "cell_type": "code",
   "execution_count": 1,
   "metadata": {},
   "outputs": [],
   "source": [
    "import numpy as np\n",
    "import covalent as ct\n",
    "import matplotlib.pyplot as plt\n",
    "from typing import List"
   ]
  },
  {
   "cell_type": "markdown",
   "metadata": {},
   "source": [
    "Same as before, we functionalize our code and mark functions are `electrons` and `lattices`"
   ]
  },
  {
   "cell_type": "markdown",
   "metadata": {},
   "source": [
    "Workflow steps\n",
    "* Generate a random matrix of size N x N from the set `[-1, 0, 1]`\n",
    "* Compute the eigenvalues of the given matrix, `M`\n",
    "* Separate the real and complex parts of the eigenvalues\n",
    "* Return results"
   ]
  },
  {
   "cell_type": "code",
   "execution_count": 2,
   "metadata": {},
   "outputs": [],
   "source": [
    "@ct.electron\n",
    "def generate_random_matrix(N: int):\n",
    "    return np.random.choice([-1, 0, 1], N*N).reshape(N, N)"
   ]
  },
  {
   "cell_type": "code",
   "execution_count": 3,
   "metadata": {},
   "outputs": [],
   "source": [
    "@ct.electron\n",
    "def compute_eigenvalues(M: np.ndarray):\n",
    "    eig, _ = np.linalg.eig(M)\n",
    "    return eig"
   ]
  },
  {
   "cell_type": "code",
   "execution_count": 4,
   "metadata": {},
   "outputs": [],
   "source": [
    "@ct.electron\n",
    "def get_real_part(eigenvalues: List[float]):\n",
    "    return [np.real(eig) for eig in eigenvalues]\n",
    "\n",
    "\n",
    "@ct.electron\n",
    "def get_imag_part(eigenvalues: List[float]):\n",
    "    return [np.imag(eig) for eig in eigenvalues]"
   ]
  },
  {
   "cell_type": "markdown",
   "metadata": {},
   "source": [
    "Create the lattice that takes as an input, how many iterations of eigenvalues computations must be carried out"
   ]
  },
  {
   "cell_type": "code",
   "execution_count": 5,
   "metadata": {},
   "outputs": [],
   "source": [
    "@ct.lattice\n",
    "def eigenvalue_workflow(N: int, batch_size: int):\n",
    "    real_part = []\n",
    "    imag_part = []\n",
    "    for index in range(batch_size):\n",
    "        matrix = generate_random_matrix(N)\n",
    "        eigenvalues = compute_eigenvalues(matrix)\n",
    "        real_part.append(get_real_part(eigenvalues))\n",
    "        imag_part.append(get_imag_part(eigenvalues))\n",
    "    return np.asarray(real_part).flatten(), np.asarray(imag_part).flatten()"
   ]
  },
  {
   "cell_type": "code",
   "execution_count": 6,
   "metadata": {},
   "outputs": [],
   "source": [
    "dispatch_id = ct.dispatch(eigenvalue_workflow)(5, 20)\n",
    "result = ct.get_result(dispatch_id, wait=True)"
   ]
  },
  {
   "cell_type": "code",
   "execution_count": 7,
   "metadata": {},
   "outputs": [],
   "source": [
    "real_part, imag_part = result.result"
   ]
  },
  {
   "cell_type": "code",
   "execution_count": 8,
   "metadata": {},
   "outputs": [
    {
     "data": {
      "text/plain": [
       "[<matplotlib.lines.Line2D at 0x7fb091603b80>]"
      ]
     },
     "execution_count": 8,
     "metadata": {},
     "output_type": "execute_result"
    },
    {
     "data": {
      "image/png": "[encoded data removed]",
      "text/plain": [
       "<Figure size 640x480 with 1 Axes>"
      ]
     },
     "metadata": {},
     "output_type": "display_data"
    }
   ],
   "source": [
    "plt.plot(real_part, imag_part, 'o', ms=1)"
   ]
  },
  {
   "cell_type": "markdown",
   "metadata": {},
   "source": [
    "### Increasing the number of iterations will make the workflow compute heavy, we can offload the computation to a remote machine and collect the results\n",
    "\n",
    "```python\n",
    "from covalent.executor import SSHExecutor\n",
    "\n",
    "executor = ct.executor.SSHExecutor(\n",
    "    username=\"user\",\n",
    "    hostname=\"host2.hostname.org\",\n",
    "    remote_cache_dir=\"/tmp/covalent\",\n",
    "    ssh_key_file=\"/home/user/.ssh/host2/id_rsa\"\n",
    ")\n",
    "```\n",
    "\n",
    "The `SSHExecutor` plugin can be installed via `pip` as follows\n",
    "\n",
    "```bash\n",
    "pip install covalent-ssh-plugin\n",
    "```"
   ]
  },
  {
   "cell_type": "code",
   "execution_count": 9,
   "metadata": {},
   "outputs": [],
   "source": [
    "from covalent.executor import SSHExecutor\n",
    "import os"
   ]
  },
  {
   "cell_type": "code",
   "execution_count": 10,
   "metadata": {},
   "outputs": [],
   "source": [
    "ec2_ssh=SSHExecutor(username=\"ubuntu\",\n",
    "                hostname=os.environ['EC2_HOSTNAME'],\n",
    "                ssh_key_file=\"~/.ssh/covalent_ieee_demo.pem\")\n",
    "\n",
    "local_ssh=SSHExecutor(username=\"venkat\", hostname=\"192.168.3.198\", ssh_key_file=\"~/.ssh/id_ed25519\")"
   ]
  },
  {
   "cell_type": "markdown",
   "metadata": {},
   "source": [
    "### Create a sub-lattice\n",
    "\n",
    "* Mark all electrons to be executed on the remote machine via the SSHExecutor\n",
    "* Mark `eigenvalue_workflow` as an `electron` to create a sublattice\n",
    "* Define a new workflow that makes multiple invocations of `eigenvalue_workflow` to compute lots of eigenvalues"
   ]
  },
  {
   "cell_type": "code",
   "execution_count": 18,
   "metadata": {},
   "outputs": [],
   "source": [
    "@ct.electron(executor=local_ssh)\n",
    "#@ct.electron(executor=ec2_ssh)\n",
    "def generate_random_matrix(N: int):\n",
    "    return np.random.choice([-1, 0, 1], N*N).reshape(N, N)\n",
    "\n",
    "@ct.electron(executor=local_ssh)\n",
    "#@ct.electron(executor=ec2_ssh)\n",
    "def compute_eigenvalues(M: np.ndarray):\n",
    "    eig, _ = np.linalg.eig(M)\n",
    "    return eig\n",
    "\n",
    "@ct.electron(executor=local_ssh)\n",
    "#@ct.electron(executor=ec2_ssh)\n",
    "def get_real_part(eigenvalues: List[float]):\n",
    "    return [np.real(eig) for eig in eigenvalues]\n",
    "\n",
    "@ct.electron(executor=local_ssh)\n",
    "#@ct.electron(executor=ec2_ssh)\n",
    "def get_imag_part(eigenvalues: List[float]):\n",
    "    return [np.imag(eig) for eig in eigenvalues]\n",
    "\n",
    "\n",
    "@ct.electron(executor=local_ssh)\n",
    "#@ct.electron(executor=ec2_ssh)\n",
    "@ct.lattice\n",
    "def eigenvalue_workflow(N: int, batch_size: int):\n",
    "    real_part = []\n",
    "    imag_part = []\n",
    "    for index in range(batch_size):\n",
    "        matrix = generate_random_matrix(N)\n",
    "        eigenvalues = compute_eigenvalues(matrix)\n",
    "        real_part.append(get_real_part(eigenvalues))\n",
    "        imag_part.append(get_imag_part(eigenvalues))\n",
    "    return np.asarray(real_part).flatten(), np.asarray(imag_part).flatten()\n",
    "\n",
    "\n",
    "@ct.lattice\n",
    "def compute_workflow(N: int, epochs: int, batch_size: int):\n",
    "    real_part = []\n",
    "    imag_part = []\n",
    "    for i in range(epochs):\n",
    "        re, imag = eigenvalue_workflow(N, batch_size)\n",
    "        real_part.append(re)\n",
    "        imag_part.append(imag)\n",
    "    return np.asarray(real_part).flatten(), np.asarray(imag_part).flatten()"
   ]
  },
  {
   "cell_type": "markdown",
   "metadata": {},
   "source": [
    "### Dispatch the larger workflow"
   ]
  },
  {
   "cell_type": "code",
   "execution_count": 19,
   "metadata": {},
   "outputs": [],
   "source": [
    "dispatch_id = ct.dispatch(compute_workflow)(5, 1, 10)"
   ]
  },
  {
   "cell_type": "code",
   "execution_count": 20,
   "metadata": {},
   "outputs": [],
   "source": [
    "result = ct.get_result(dispatch_id, wait=True)"
   ]
  },
  {
   "cell_type": "code",
   "execution_count": 21,
   "metadata": {},
   "outputs": [],
   "source": [
    "real, imag = result.result"
   ]
  },
  {
   "cell_type": "code",
   "execution_count": 22,
   "metadata": {},
   "outputs": [
    {
     "data": {
      "text/plain": [
       "[<matplotlib.lines.Line2D at 0x7fb091951460>]"
      ]
     },
     "execution_count": 22,
     "metadata": {},
     "output_type": "execute_result"
    },
    {
     "data": {
      "image/png": "[encoded data removed]",
      "text/plain": [
       "<Figure size 640x480 with 1 Axes>"
      ]
     },
     "metadata": {},
     "output_type": "display_data"
    }
   ],
   "source": [
    "plt.plot(real, imag, 'o', ms=1)"
   ]
  },
  {
   "cell_type": "markdown",
   "metadata": {},
   "source": []
  }
 ],
 "metadata": {
  "kernelspec": {
   "display_name": "Python 3.8.13 ('ieee_covalent')",
   "language": "python",
   "name": "python3"
  },
  "language_info": {
   "codemirror_mode": {
    "name": "ipython",
    "version": 3
   },
   "file_extension": ".py",
   "mimetype": "text/x-python",
   "name": "python",
   "nbconvert_exporter": "python",
   "pygments_lexer": "ipython3",
   "version": "3.8.13"
  },
  "orig_nbformat": 4,
  "vscode": {
   "interpreter": {
    "hash": "1e9340f02e3aaa51f066a48456dc2e2942d45c59d201de61739a5806d61c3a32"
   }
  }
 },
 "nbformat": 4,
 "nbformat_minor": 2
}
