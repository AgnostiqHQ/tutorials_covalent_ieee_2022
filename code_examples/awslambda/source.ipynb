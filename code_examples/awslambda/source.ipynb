{
 "cells": [
  {
   "cell_type": "markdown",
   "metadata": {},
   "source": [
    "## Workflow using the AWS Lambda serverless compute service"
   ]
  },
  {
   "cell_type": "code",
   "execution_count": 10,
   "metadata": {},
   "outputs": [],
   "source": [
    "import covalent as ct\n",
    "from covalent.executor import AWSLambdaExecutor\n",
    "\n",
    "lambda_executor = AWSLambdaExecutor(credentials=\"~/.aws/credentials\",\n",
    "                    region=\"us-east-1\",\n",
    "                    lambda_role_name=\"CovalentLambdaExecutionRole\",\n",
    "                    s3_bucket_name=\"covalent-lambda-job-resources\",\n",
    "                    cleanup=True)"
   ]
  },
  {
   "cell_type": "code",
   "execution_count": 11,
   "metadata": {},
   "outputs": [],
   "source": [
    "@ct.lattice\n",
    "@ct.electron\n",
    "def approximate_pi(partitions: int):\n",
    "    dh = 1.0/partitions\n",
    "    area = 0.0\n",
    "    for i in range(partitions):\n",
    "        area += 4.0/(1.0 + (dh*(i - 0.5))**2)\n",
    "    return area*dh"
   ]
  },
  {
   "cell_type": "code",
   "execution_count": 19,
   "metadata": {},
   "outputs": [
    {
     "name": "stdout",
     "output_type": "stream",
     "text": [
      "7d69024b-d8c6-4354-904b-be1407116211\n"
     ]
    }
   ],
   "source": [
    "dispatch_id = ct.dispatch(approximate_pi)(1000000)\n",
    "print(dispatch_id)"
   ]
  },
  {
   "cell_type": "code",
   "execution_count": 20,
   "metadata": {},
   "outputs": [],
   "source": [
    "result = ct.get_result(dispatch_id, wait=True)"
   ]
  },
  {
   "cell_type": "code",
   "execution_count": 22,
   "metadata": {},
   "outputs": [
    {
     "name": "stdout",
     "output_type": "stream",
     "text": [
      "3.141594653588765\n"
     ]
    }
   ],
   "source": [
    "print(result.result)"
   ]
  },
  {
   "cell_type": "code",
   "execution_count": null,
   "metadata": {},
   "outputs": [],
   "source": []
  }
 ],
 "metadata": {
  "kernelspec": {
   "display_name": "Python 3.8.13 ('ieee')",
   "language": "python",
   "name": "python3"
  },
  "language_info": {
   "codemirror_mode": {
    "name": "ipython",
    "version": 3
   },
   "file_extension": ".py",
   "mimetype": "text/x-python",
   "name": "python",
   "nbconvert_exporter": "python",
   "pygments_lexer": "ipython3",
   "version": "3.8.13"
  },
  "orig_nbformat": 4,
  "vscode": {
   "interpreter": {
    "hash": "4604952b9ddbd260dd73fdb5cff5f484d6b1e3984d5eb828a72400f80bc93c07"
   }
  }
 },
 "nbformat": 4,
 "nbformat_minor": 2
}
