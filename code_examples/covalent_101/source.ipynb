{
 "cells": [
  {
   "cell_type": "code",
   "execution_count": null,
   "metadata": {},
   "outputs": [],
   "source": [
    "import covalent as ct\n",
    "import time"
   ]
  },
  {
   "cell_type": "markdown",
   "metadata": {},
   "source": [
    "### Covalent 101 example"
   ]
  },
  {
   "cell_type": "code",
   "execution_count": null,
   "metadata": {},
   "outputs": [],
   "source": [
    "@ct.electron\n",
    "def optimize(x, y):\n",
    "    return min(x, y)\n",
    "\n",
    "@ct.electron\n",
    "def task(x, y):\n",
    "    z = optimize(x, y)\n",
    "    return z\n",
    "\n",
    "@ct.electron\n",
    "def train(model):\n",
    "    import time\n",
    "    time.sleep(1)\n",
    "    return model\n",
    "\n",
    "@ct.lattice\n",
    "def workflow(inputs):\n",
    "    model = task(inputs[0], inputs[1])\n",
    "    return train(model)\n",
    "\n",
    "\n",
    "dispatch_id = ct.dispatch(workflow)([1, 2])\n",
    "print(ct.get_result(dispatch_id, wait=True))"
   ]
  }
 ],
 "metadata": {
  "kernelspec": {
   "display_name": "Python 3.8.13 ('ieee_covalent')",
   "language": "python",
   "name": "python3"
  },
  "language_info": {
   "codemirror_mode": {
    "name": "ipython",
    "version": 3
   },
   "file_extension": ".py",
   "mimetype": "text/x-python",
   "name": "python",
   "nbconvert_exporter": "python",
   "pygments_lexer": "ipython3",
   "version": "3.8.13"
  },
  "orig_nbformat": 4,
  "vscode": {
   "interpreter": {
    "hash": "1e9340f02e3aaa51f066a48456dc2e2942d45c59d201de61739a5806d61c3a32"
   }
  }
 },
 "nbformat": 4,
 "nbformat_minor": 2
}
