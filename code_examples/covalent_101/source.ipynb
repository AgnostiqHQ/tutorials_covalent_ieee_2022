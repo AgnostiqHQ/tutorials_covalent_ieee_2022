{
 "cells": [
  {
   "cell_type": "code",
   "execution_count": 1,
   "metadata": {},
   "outputs": [],
   "source": [
    "import covalent as ct\n",
    "import time"
   ]
  },
  {
   "cell_type": "code",
   "execution_count": 6,
   "metadata": {},
   "outputs": [
    {
     "name": "stdout",
     "output_type": "stream",
     "text": [
      "\n",
      "Lattice Result\n",
      "==============\n",
      "status: COMPLETED\n",
      "result: 1\n",
      "input args: ['[1, 2]']\n",
      "input kwargs: {}\n",
      "error: \n",
      "\n",
      "start_time: 2022-09-19 18:49:28.167255\n",
      "end_time: 2022-09-19 18:49:29.316087\n",
      "\n",
      "results_dir: /home/venkat/tutorials_covalent_ieee_2022/code_examples/covalent_101/results\n",
      "dispatch_id: 1c4b7f2e-9080-4d8d-a34b-737618ac5586\n",
      "\n",
      "Node Outputs\n",
      "------------\n",
      "task(0): 1\n",
      ":parameter:1(1): 1\n",
      ":parameter:2(2): 2\n",
      "train(3): 1\n",
      "\n"
     ]
    }
   ],
   "source": [
    "@ct.electron\n",
    "def optimize(x, y):\n",
    "    return min(x, y)\n",
    "\n",
    "@ct.electron\n",
    "def task(x, y):\n",
    "    z = optimize(x, y)\n",
    "    return z\n",
    "\n",
    "@ct.electron\n",
    "def train(model):\n",
    "    import time\n",
    "    time.sleep(1)\n",
    "    return model\n",
    "\n",
    "@ct.lattice\n",
    "def workflow(inputs):\n",
    "    model = task(inputs[0], inputs[1])\n",
    "    return train(model)\n",
    "\n",
    "\n",
    "dispatch_id = ct.dispatch(workflow)([1, 2])\n",
    "print(ct.get_result(dispatch_id, wait=True))"
   ]
  },
  {
   "cell_type": "code",
   "execution_count": null,
   "metadata": {},
   "outputs": [],
   "source": []
  }
 ],
 "metadata": {
  "kernelspec": {
   "display_name": "Python 3.8.13 ('ieee_covalent')",
   "language": "python",
   "name": "python3"
  },
  "language_info": {
   "codemirror_mode": {
    "name": "ipython",
    "version": 3
   },
   "file_extension": ".py",
   "mimetype": "text/x-python",
   "name": "python",
   "nbconvert_exporter": "python",
   "pygments_lexer": "ipython3",
   "version": "3.8.13"
  },
  "orig_nbformat": 4,
  "vscode": {
   "interpreter": {
    "hash": "1e9340f02e3aaa51f066a48456dc2e2942d45c59d201de61739a5806d61c3a32"
   }
  }
 },
 "nbformat": 4,
 "nbformat_minor": 2
}
