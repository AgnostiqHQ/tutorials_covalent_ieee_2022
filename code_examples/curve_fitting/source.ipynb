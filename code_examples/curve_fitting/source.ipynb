{
 "cells": [
  {
   "cell_type": "markdown",
   "metadata": {},
   "source": [
    "## Curve fitting example with Covalent\n",
    "\n",
    "To use this notebook, it is recommended to run everything in a clean `conda` environment. The environment can be created by using the provided `environment.yml` file at the root level.\n",
    "\n",
    "### Create environment\n",
    "\n",
    "```bash\n",
    "conda env create --file environment.yml\n",
    "```\n",
    "\n",
    "\n",
    "### Start Covalent\n",
    "\n",
    "```bash\n",
    "covalent start --ignore-migrations\n",
    "```\n",
    "\n",
    "To for more verbose logging, `covalent` can be started in `DEBUG` mode\n",
    "\n",
    "```bash\n",
    "covalent start -d --ignore-migrations\n",
    "```"
   ]
  },
  {
   "cell_type": "code",
   "execution_count": 1,
   "metadata": {},
   "outputs": [],
   "source": [
    "import numpy as np\n",
    "import covalent as ct\n",
    "import matplotlib.pyplot as plt"
   ]
  },
  {
   "cell_type": "markdown",
   "metadata": {},
   "source": [
    "### Raw code\n",
    "\n",
    "```python\n",
    "x = [1, 2, 3, 9]\n",
    "y = [1, 4, 1, 3]\n",
    "```\n",
    "\n",
    "### Fit\n",
    "```python\n",
    "fit = np.polyfit(x, y, 3)\n",
    "xnew = np.linspace(x[0], x[-1], 50)\n",
    "ynew = fit(xnew)\n",
    "```\n",
    "\n",
    "\n",
    "# plot\n",
    "```python\n",
    "fig, ax = plt.subplots()\n",
    "plt.plot(x, y, 'o', xnew, ynew)\n",
    "plt.xlim(x[0]-1, x[-1]+1)\n",
    "```"
   ]
  },
  {
   "cell_type": "markdown",
   "metadata": {},
   "source": [
    "### Functionalize the code (structured)"
   ]
  },
  {
   "cell_type": "code",
   "execution_count": 28,
   "metadata": {},
   "outputs": [],
   "source": [
    "def fit_xy(x, y):\n",
    "    z = np.polyfit(x, y, 3)\n",
    "    return np.poly1d(z)\n",
    "\n",
    "def plot_fit(x, y, xnew, fit):\n",
    "    ynew = fit(xnew)\n",
    "    fig, ax = plt.subplots()\n",
    "    plt.plot(x, y, 'o')\n",
    "    plt.plot(xnew, ynew, '-')\n",
    "    plt.xlim([x[0]-1, x[-1]+1])\n",
    "    return ax\n",
    "\n",
    "def exp(x, y):\n",
    "    xnew = np.linspace(x[0], x[-1], 50)\n",
    "    fit = fit_xy(x=x, y=y)\n",
    "    return plot_fit(x=x, y=y, xnew=xnew, fit=fit)"
   ]
  },
  {
   "cell_type": "markdown",
   "metadata": {},
   "source": [
    "## Covalentify workflow"
   ]
  },
  {
   "cell_type": "markdown",
   "metadata": {},
   "source": [
    "### Make `fit_xy` electron"
   ]
  },
  {
   "cell_type": "code",
   "execution_count": 38,
   "metadata": {},
   "outputs": [],
   "source": [
    "@ct.electron\n",
    "def fit_xy(x, y):\n",
    "   z = np.polyfit(x, y, 10)\n",
    "   return np.poly1d(z)"
   ]
  },
  {
   "cell_type": "markdown",
   "metadata": {},
   "source": [
    "### Make an electron to plot the results"
   ]
  },
  {
   "cell_type": "code",
   "execution_count": 39,
   "metadata": {},
   "outputs": [],
   "source": [
    "@ct.electron\n",
    "def plot_fit(x, y, xnew, fit):\n",
    "   ynew = fit(xnew)\n",
    "   fig, ax = plt.subplots()\n",
    "   plt.plot(x, y, 'o')\n",
    "   plt.plot(xnew, ynew, '-')\n",
    "   plt.xlim([x[0]-1, x[-1]+1])\n",
    "   return ax"
   ]
  },
  {
   "cell_type": "markdown",
   "metadata": {},
   "source": [
    "### Create lattice for curve fitting (workflow)"
   ]
  },
  {
   "cell_type": "code",
   "execution_count": 44,
   "metadata": {},
   "outputs": [],
   "source": [
    "@ct.lattice\n",
    "def exp(x, y):\n",
    "   xnew = np.linspace(x[0], x[-1], 100)\n",
    "   fit = fit_xy(x=x, y=y)\n",
    "   return plot_fit(x=x, y=y, xnew=xnew, fit=fit)"
   ]
  },
  {
   "cell_type": "markdown",
   "metadata": {},
   "source": [
    "### Dispatch workflow to covalent server (localhost:48008)"
   ]
  },
  {
   "cell_type": "code",
   "execution_count": 45,
   "metadata": {},
   "outputs": [
    {
     "name": "stdout",
     "output_type": "stream",
     "text": [
      "eef84f8f-470c-449e-a145-1e36201fe488\n"
     ]
    }
   ],
   "source": [
    "x = np.arange(10)\n",
    "y = np.random.random(10)\n",
    "dispatch_id = ct.dispatch(exp)(x = x, y = y)\n",
    "print(dispatch_id)"
   ]
  },
  {
   "cell_type": "markdown",
   "metadata": {},
   "source": [
    "[Covalent Server UI](http://localhost:48008)"
   ]
  },
  {
   "cell_type": "markdown",
   "metadata": {},
   "source": [
    "### Curve fitting workflow\n",
    "\n",
    "![Curve fitting](./assets/curve_fitting.png)"
   ]
  },
  {
   "cell_type": "code",
   "execution_count": 58,
   "metadata": {},
   "outputs": [
    {
     "name": "stdout",
     "output_type": "stream",
     "text": [
      "AxesSubplot(0.125,0.11;0.775x0.77)\n"
     ]
    },
    {
     "data": {
      "image/png": "[encoded data removed]",
      "text/plain": [
       "<Figure size 640x480 with 1 Axes>"
      ]
     },
     "metadata": {},
     "output_type": "display_data"
    }
   ],
   "source": [
    "result = ct.get_result(dispatch_id=dispatch_id, wait=True)\n",
    "print(result.result)"
   ]
  },
  {
   "cell_type": "markdown",
   "metadata": {},
   "source": []
  }
 ],
 "metadata": {
  "kernelspec": {
   "display_name": "Python 3.8.13 ('curve_fitting')",
   "language": "python",
   "name": "python3"
  },
  "language_info": {
   "codemirror_mode": {
    "name": "ipython",
    "version": 3
   },
   "file_extension": ".py",
   "mimetype": "text/x-python",
   "name": "python",
   "nbconvert_exporter": "python",
   "pygments_lexer": "ipython3",
   "version": "3.8.13"
  },
  "orig_nbformat": 4,
  "vscode": {
   "interpreter": {
    "hash": "6c7c5bd9595a4253d6a498d72c3af38dc84926ff380b094fb984cd4865b55ce0"
   }
  }
 },
 "nbformat": 4,
 "nbformat_minor": 2
}
