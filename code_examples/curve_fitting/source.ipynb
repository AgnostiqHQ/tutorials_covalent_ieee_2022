{
 "cells": [
  {
   "cell_type": "markdown",
   "metadata": {},
   "source": [
    "## Curve fitting example with Covalent\n",
    "\n",
    "To use this notebook, it is recommended to run everything in a clean `conda` environment. The environment can be created by using the provided `environment.yml` file at the root level.\n",
    "\n",
    "### Create environment\n",
    "\n",
    "```bash\n",
    "conda env create --file environment.yml\n",
    "```\n",
    "\n",
    "\n",
    "### Start Covalent\n",
    "\n",
    "```bash\n",
    "covalent start --ignore-migrations\n",
    "```\n",
    "\n",
    "To for more verbose logging, `covalent` can be started in `DEBUG` mode\n",
    "\n",
    "```bash\n",
    "covalent start -d --ignore-migrations\n",
    "```"
   ]
  },
  {
   "cell_type": "code",
   "execution_count": null,
   "metadata": {},
   "outputs": [],
   "source": [
    "import numpy as np\n",
    "import covalent as ct\n",
    "import matplotlib.pyplot as plt\n",
    "from typing import List"
   ]
  },
  {
   "cell_type": "markdown",
   "metadata": {},
   "source": [
    "### Raw code\n",
    "\n",
    "```python\n",
    "x = np.arange(10)\n",
    "y = np.random.random(10)\n",
    "```\n",
    "\n",
    "### Fit\n",
    "```python\n",
    "fit = np.polyfit(x, y, 10)\n",
    "xnew = np.linspace(x[0], x[-1], 50)\n",
    "ynew = fit(xnew)\n",
    "```\n",
    "\n",
    "\n",
    "# plot\n",
    "```python\n",
    "fig, ax = plt.subplots()\n",
    "plt.plot(x, y, 'o', xnew, ynew)\n",
    "plt.xlim(x[0]-1, x[-1]+1)\n",
    "```"
   ]
  },
  {
   "cell_type": "markdown",
   "metadata": {},
   "source": [
    "### Functionalize the code (structured)"
   ]
  },
  {
   "cell_type": "code",
   "execution_count": null,
   "metadata": {},
   "outputs": [],
   "source": [
    "def fit_xy(x, y, order: int):\n",
    "    z = np.polyfit(x, y, order)\n",
    "    return np.poly1d(z)\n",
    "\n",
    "def plot_fit(x, y, xnew, fit, order):\n",
    "    ynew = fit(xnew)\n",
    "    fig, ax = plt.subplots()\n",
    "    plt.plot(x, y, 'o')\n",
    "    plt.plot(xnew, ynew, '-')\n",
    "    plt.xlim([x[0]-1, x[-1]+1])\n",
    "    plt.xlabel(r\"x\", fontsize=14)\n",
    "    plt.ylabel(f\"Interpolant\", fontsize=14)\n",
    "    plt.title(f\"Curve fit order: {order}\", fontsize=14)\n",
    "    return ax\n",
    "\n",
    "def cfit(x, y, order):\n",
    "    xnew = np.linspace(x[0], x[-1], 50)\n",
    "    fit = fit_xy(x=x, y=y, order=order)\n",
    "    return plot_fit(x=x, y=y, xnew=xnew, fit=fit, order=order)"
   ]
  },
  {
   "cell_type": "markdown",
   "metadata": {},
   "source": [
    "## Covalentify workflow"
   ]
  },
  {
   "cell_type": "markdown",
   "metadata": {},
   "source": [
    "### Make `fit_xy` electron"
   ]
  },
  {
   "cell_type": "code",
   "execution_count": null,
   "metadata": {},
   "outputs": [],
   "source": [
    "@ct.electron\n",
    "def fit_xy(x, y, order):\n",
    "   z = np.polyfit(x, y, order)\n",
    "   return np.poly1d(z)"
   ]
  },
  {
   "cell_type": "markdown",
   "metadata": {},
   "source": [
    "### Make an electron to plot the results"
   ]
  },
  {
   "cell_type": "code",
   "execution_count": null,
   "metadata": {},
   "outputs": [],
   "source": [
    "@ct.electron\n",
    "def plot_fit(x, y, xnew, fit, order):\n",
    "   ynew = fit(xnew)\n",
    "   fig, ax = plt.subplots()\n",
    "   plt.plot(x, y, 'o', color='r', ms=10, label=r'Data')\n",
    "   plt.plot(xnew, ynew, '--', color='k', label=f'{order}th order polynomial fit')\n",
    "   plt.xlim([x[0]-1, x[-1]+1])\n",
    "   plt.xlabel(r\"x\", fontsize=14)\n",
    "   plt.ylabel(f\"Interpolant\", fontsize=14)\n",
    "   plt.title(f\"Curve fitting with Covalent\", fontsize=14)\n",
    "   plt.legend(fontsize=12)\n",
    "   plt.tight_layout()\n",
    "   return ax"
   ]
  },
  {
   "cell_type": "markdown",
   "metadata": {},
   "source": [
    "### Create lattice for curve fitting (workflow)"
   ]
  },
  {
   "cell_type": "code",
   "execution_count": null,
   "metadata": {},
   "outputs": [],
   "source": [
    "@ct.lattice\n",
    "def cfit(x, y, order):\n",
    "   xnew = np.linspace(x[0], x[-1], 100)\n",
    "   fit = fit_xy(x=x, y=y, order=order)\n",
    "   return plot_fit(x=x, y=y, xnew=xnew, fit=fit, order=order)"
   ]
  },
  {
   "cell_type": "markdown",
   "metadata": {},
   "source": [
    "### Dispatch workflow to covalent server\n",
    "\n",
    "* `N: size of the problem`\n",
    "* `X => [0, N]`\n",
    "* `Y => Randomly sampled between [0, 1] N times`\n",
    "* `order: is degree of polynomial to use to fit the data, randomly chosen between [5, 10]`"
   ]
  },
  {
   "cell_type": "code",
   "execution_count": null,
   "metadata": {},
   "outputs": [],
   "source": [
    "x = np.arange(10)\n",
    "y = np.random.random(10)\n",
    "dispatch_id = ct.dispatch(cfit)(x = x, y = y, order=np.random.randint(5, 10))\n",
    "print(dispatch_id)"
   ]
  },
  {
   "cell_type": "markdown",
   "metadata": {},
   "source": [
    "[Covalent Server UI](http://localhost:48008)"
   ]
  },
  {
   "cell_type": "markdown",
   "metadata": {},
   "source": [
    "## Get the workflow result"
   ]
  },
  {
   "cell_type": "code",
   "execution_count": null,
   "metadata": {},
   "outputs": [],
   "source": [
    "result = ct.get_result(dispatch_id=dispatch_id, wait=True)\n",
    "print(result.result)"
   ]
  },
  {
   "cell_type": "markdown",
   "metadata": {},
   "source": [
    "# Multiple dispatches\n",
    "\n",
    "* Multiple curve fitting experiments\n",
    "* Build the inputs as a `list`\n",
    "* Dispatch each one to Covalent simultaneously"
   ]
  },
  {
   "cell_type": "code",
   "execution_count": null,
   "metadata": {},
   "outputs": [],
   "source": [
    "inputs = [{\"x\": np.arange(10), \"y\": np.random.random(10), \"order\": np.random.randint(5, 10)} for _ in range(10)]"
   ]
  },
  {
   "cell_type": "code",
   "execution_count": null,
   "metadata": {},
   "outputs": [],
   "source": [
    "dispatches = [ct.dispatch(cfit)(input[\"x\"], input[\"y\"], order=input[\"order\"]) for input in inputs]"
   ]
  },
  {
   "cell_type": "code",
   "execution_count": null,
   "metadata": {},
   "outputs": [],
   "source": [
    "results = [ct.get_result(dispatch_id, wait=True).result for dispatch_id in dispatches]"
   ]
  },
  {
   "cell_type": "markdown",
   "metadata": {},
   "source": [
    "# Sublattices\n",
    "\n",
    "* Instead of create a multiple dispatches of the same workflow, it would be convenient to do a single dispatch of a larger workflow that invokes the original workflow\n",
    "* Mark the first workflow as a `electron`\n",
    "* Create a larger workflow that takes the space of parameters as an input\n",
    "* Dispatch the new workflow"
   ]
  },
  {
   "cell_type": "code",
   "execution_count": null,
   "metadata": {},
   "outputs": [],
   "source": [
    "cfit_sublattice = ct.electron(cfit)"
   ]
  },
  {
   "cell_type": "code",
   "execution_count": null,
   "metadata": {},
   "outputs": [],
   "source": [
    "@ct.lattice\n",
    "def multiple_curve_fits(inputs: List):\n",
    "    all_results = []\n",
    "    for input in inputs:\n",
    "        result = cfit_sublattice(x=input[\"x\"], y = input[\"y\"], order=input[\"order\"])\n",
    "        all_results.append(result)\n",
    "    return all_results"
   ]
  },
  {
   "cell_type": "markdown",
   "metadata": {},
   "source": [
    "### Dispatch the larger workflow"
   ]
  },
  {
   "cell_type": "code",
   "execution_count": null,
   "metadata": {},
   "outputs": [],
   "source": [
    "inputs = [{\"x\": np.arange(10), \"y\": np.random.random(10), \"order\": np.random.randint(5, 10)} for _ in range(5)]\n",
    "dispatch_id = ct.dispatch(multiple_curve_fits)(inputs)"
   ]
  },
  {
   "cell_type": "code",
   "execution_count": null,
   "metadata": {},
   "outputs": [],
   "source": [
    "results = ct.get_result(dispatch_id=dispatch_id, wait=True)"
   ]
  },
  {
   "cell_type": "code",
   "execution_count": null,
   "metadata": {},
   "outputs": [],
   "source": [
    "print(results.result)"
   ]
  },
  {
   "cell_type": "markdown",
   "metadata": {},
   "source": [
    "### Result object\n",
    "\n",
    "Stores all the metadata and necessary information about the workflow as a Python object. Users can use the result object API to query the status of running and completed workflows at a very granular level"
   ]
  },
  {
   "cell_type": "code",
   "execution_count": null,
   "metadata": {},
   "outputs": [],
   "source": [
    "x = np.arange(10)\n",
    "y = np.random.random(10)\n",
    "dispatch_id = ct.dispatch(cfit)(x = x, y = y, order = 10)\n",
    "result = ct.get_result(dispatch_id, wait=True)"
   ]
  },
  {
   "cell_type": "markdown",
   "metadata": {},
   "source": [
    "### Workflow status"
   ]
  },
  {
   "cell_type": "code",
   "execution_count": null,
   "metadata": {},
   "outputs": [],
   "source": [
    "print(result.status)"
   ]
  },
  {
   "cell_type": "markdown",
   "metadata": {},
   "source": [
    "### Retrive results of all nodes in the workflow"
   ]
  },
  {
   "cell_type": "code",
   "execution_count": null,
   "metadata": {},
   "outputs": [],
   "source": [
    "result.get_all_node_results()"
   ]
  },
  {
   "cell_type": "markdown",
   "metadata": {},
   "source": [
    "### Workflow execution time"
   ]
  },
  {
   "cell_type": "code",
   "execution_count": null,
   "metadata": {},
   "outputs": [],
   "source": [
    "duration = result.end_time - result.start_time\n",
    "print(duration.total_seconds())"
   ]
  },
  {
   "cell_type": "markdown",
   "metadata": {},
   "source": [
    "### Query individual node outputs/metadata"
   ]
  },
  {
   "cell_type": "code",
   "execution_count": null,
   "metadata": {},
   "outputs": [],
   "source": [
    "result.get_node_result(0)"
   ]
  },
  {
   "cell_type": "markdown",
   "metadata": {},
   "source": []
  }
 ],
 "metadata": {
  "kernelspec": {
   "display_name": "Python 3.8.13 ('ieee_covalent')",
   "language": "python",
   "name": "python3"
  },
  "language_info": {
   "codemirror_mode": {
    "name": "ipython",
    "version": 3
   },
   "file_extension": ".py",
   "mimetype": "text/x-python",
   "name": "python",
   "nbconvert_exporter": "python",
   "pygments_lexer": "ipython3",
   "version": "3.8.13"
  },
  "orig_nbformat": 4,
  "vscode": {
   "interpreter": {
    "hash": "1e9340f02e3aaa51f066a48456dc2e2942d45c59d201de61739a5806d61c3a32"
   }
  }
 },
 "nbformat": 4,
 "nbformat_minor": 2
}
