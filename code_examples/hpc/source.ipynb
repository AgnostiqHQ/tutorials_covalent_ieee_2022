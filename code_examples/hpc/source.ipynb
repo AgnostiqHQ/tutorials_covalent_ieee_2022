{
 "cells": [
  {
   "cell_type": "markdown",
   "metadata": {},
   "source": [
    "## C/C++ integration with Covalent\n",
    "\n",
    "### Interfacing with C\n",
    "\n",
    "We use a simple example of approximating the value of $\\pi$ by computing the area under one quadrant of a unit circle. To do this, we use the `Reimann` sum approach where we break the region down into many rectangles of width $dx$ and height given by the equation of the circle\n",
    "\n",
    "$$y = \\sqrt{1 - x^2}, x \\in [0, 1]$$\n",
    "\n",
    "We write a C python module, compile it into a shared library and import it in our workflow. Doing this, as far as Covalent is concerned it is dealing with an ordinary Python module with routine Python functions accepting the necessary arguments.\n",
    "\n",
    "The module source code can be found in `cpiapprox/main.c` and the method of interest is `compute_pi`. The module follows the Python/C API standard and defines a module named `cpiapprox` with a single method `compute_pi` that accepts an `unsigned int` as an argument a.k.a the number of partitions to divide the area in. Greater the number of partition, better the approximation of $\\pi$.\n",
    "\n",
    "\n",
    "### Compilation\n",
    "\n",
    "To compile the source code into a shared library that can be imported simple run\n",
    "\n",
    "```bash\n",
    "python setup.py build\n",
    "python setup.py install\n",
    "```\n",
    "from the directory containing the source code.\n"
   ]
  },
  {
   "cell_type": "code",
   "execution_count": null,
   "metadata": {},
   "outputs": [],
   "source": [
    "import cpiapprox\n",
    "import covalent as ct\n",
    "from typing import List"
   ]
  },
  {
   "cell_type": "code",
   "execution_count": null,
   "metadata": {},
   "outputs": [],
   "source": [
    "@ct.electron\n",
    "def compute_pi(N: int):\n",
    "    \"\"\"\n",
    "    :param N: number of partitions to use to approximate PI\n",
    "    \"\"\"\n",
    "    return cpiapprox.compute_pi(N)\n",
    "\n",
    "@ct.lattice\n",
    "def approximate_pi(partitions: List[int]):\n",
    "    results = []\n",
    "    for n in partitions:\n",
    "        results.append(compute_pi(n))\n",
    "    return results\n",
    "\n",
    "\n",
    "dispatch_id = ct.dispatch(approximate_pi)([10, 10000, 1000000, 1000000000])\n",
    "result = ct.get_result(dispatch_id, wait=True)\n",
    "print(result)\n"
   ]
  },
  {
   "cell_type": "markdown",
   "metadata": {},
   "source": [
    "### Interfacing with C++\n",
    "\n",
    "Covalent can be interfaced with C++ in a similar manner if one can expose their `C++` library as a Python module to Covalent. There are numerous open source wrappers available like `PyBind11/SWIG`. We here show how pure C++ functions can be invoked as Covalent electrons after being exposed via `PyBind11`.\n",
    "\n",
    "More information on `PyBind11` can be found [here](https://github.com/pybind/pybind11). To install `pybind11`, simply run\n",
    "\n",
    "```bash\n",
    "pip install pybind11\n",
    "```\n",
    "\n",
    "As an example, we write a `C++` module `cpparithmetic` that performs simple elementwise vector arthimetic on two input `std::vectors`. The source code for this module can be found in `cpparthimetic/main.cc`.\n",
    "\n",
    "To compile the source, use the provided `setup.py` file.\n",
    "\n",
    "```bash\n",
    "python setup.py build\n",
    "python setup.py install\n",
    "```"
   ]
  },
  {
   "cell_type": "code",
   "execution_count": 1,
   "metadata": {},
   "outputs": [],
   "source": [
    "import cpparthimetic\n",
    "import covalent as ct\n",
    "import random\n",
    "from typing import List\n",
    "import time"
   ]
  },
  {
   "cell_type": "markdown",
   "metadata": {},
   "source": [
    "### C++ workflows"
   ]
  },
  {
   "cell_type": "code",
   "execution_count": 2,
   "metadata": {},
   "outputs": [],
   "source": [
    "@ct.electron\n",
    "def generate_lists(size: int):\n",
    "    return [random.uniform(1, 10) for i in range(size)]\n",
    "\n",
    "@ct.electron\n",
    "def cppadd(a, b):\n",
    "    return cpparthimetic.vecadd(a, b)\n",
    "\n",
    "@ct.electron\n",
    "def cppmul(a, b):\n",
    "    return cpparthimetic.vecmul(a, b)\n",
    "\n",
    "@ct.electron\n",
    "def cppdiv(a, b):\n",
    "    return cpparthimetic.vecdiv(a, b)\n",
    "\n",
    "@ct.lattice\n",
    "def cppadd_workflow(size):\n",
    "    a = generate_lists(size)\n",
    "    b = generate_lists(size)\n",
    "    c = cppadd(a, b)\n",
    "    return c\n",
    "\n",
    "@ct.lattice\n",
    "def cppmul_workflow(size):\n",
    "    a = generate_lists(size)\n",
    "    b = generate_lists(size)\n",
    "    c = cppmul(a, b)\n",
    "    return c\n",
    "\n",
    "@ct.lattice\n",
    "def cppdiv_workflow(size):\n",
    "    a = generate_lists(size)\n",
    "    b = generate_lists(size)\n",
    "    c = cppdiv(a, b)\n",
    "    return c"
   ]
  },
  {
   "cell_type": "code",
   "execution_count": 3,
   "metadata": {},
   "outputs": [],
   "source": [
    "N = 2**4"
   ]
  },
  {
   "cell_type": "code",
   "execution_count": 4,
   "metadata": {},
   "outputs": [],
   "source": [
    "dispatch_ids = [ct.dispatch(cppadd_workflow)(N), ct.dispatch(cppmul_workflow)(N), ct.dispatch(cppdiv_workflow)(N)]"
   ]
  },
  {
   "cell_type": "code",
   "execution_count": 5,
   "metadata": {},
   "outputs": [],
   "source": [
    "results = [ct.get_result(dispatch_id, wait=True).result for dispatch_id in dispatch_ids]"
   ]
  },
  {
   "cell_type": "code",
   "execution_count": 6,
   "metadata": {},
   "outputs": [
    {
     "name": "stdout",
     "output_type": "stream",
     "text": [
      "[[11.177078697934395, 16.3214734885964, 8.834955323755924, 8.07036795823727, 11.330697170400924, 15.65185481221301, 16.58107154170786, 11.823631680553053, 6.78491002426072, 9.826080452983105, 8.166566338084287, 11.345197831006566, 14.219363737251209, 12.49897999347533, 7.100003433959273, 11.15488621668193], [8.391131488520463, 9.14633497275894, 20.630944026679234, 50.760671585268796, 36.298117726372304, 22.301547183133145, 68.3634746550888, 13.03946228022676, 38.59259685129559, 37.58011214332306, 21.512997242192057, 60.93803853002853, 21.710472563567834, 5.539328975142298, 45.978288643374675, 35.14193071250006], [1.2462214408816936, 0.42462435746921023, 4.412856744027672, 0.3933190254969646, 0.5968472346032822, 1.0387311819518477, 0.9992225138631028, 2.4459486864861546, 1.0212944553754442, 0.4934174678610028, 1.4509336189606175, 4.8995399594386, 1.1365109969616864, 1.4189213108623573, 0.4704953274312155, 2.0912983895128163]]\n"
     ]
    }
   ],
   "source": [
    "print(results)"
   ]
  }
 ],
 "metadata": {
  "kernelspec": {
   "display_name": "Python 3.8.13 ('ieee_covalent')",
   "language": "python",
   "name": "python3"
  },
  "language_info": {
   "codemirror_mode": {
    "name": "ipython",
    "version": 3
   },
   "file_extension": ".py",
   "mimetype": "text/x-python",
   "name": "python",
   "nbconvert_exporter": "python",
   "pygments_lexer": "ipython3",
   "version": "3.8.13"
  },
  "vscode": {
   "interpreter": {
    "hash": "1e9340f02e3aaa51f066a48456dc2e2942d45c59d201de61739a5806d61c3a32"
   }
  }
 },
 "nbformat": 4,
 "nbformat_minor": 4
}
