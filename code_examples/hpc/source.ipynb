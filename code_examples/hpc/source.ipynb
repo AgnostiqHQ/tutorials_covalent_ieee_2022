{
 "cells": [
  {
   "cell_type": "markdown",
   "metadata": {},
   "source": [
    "## C/C++ integration with Covalent\n",
    "\n",
    "### Interfacing with C\n",
    "\n",
    "We use a simple example of approximating the value of $\\pi$ by computing the area under one quadrant of a unit circle. To do this, we use the `Reimann` sum approach where we break the region down into many rectangles of width $dx$ and height given by the equation of the circle\n",
    "\n",
    "$$y = \\sqrt{1 - x^2}, x \\in [0, 1]$$\n",
    "\n",
    "We write a C python module, compile it into a shared library and import it in our workflow. Doing this, as far as Covalent is concerned it is dealing with an ordinary Python module with routine Python functions accepting the necessary arguments.\n",
    "\n",
    "The module source code can be found in `cpiapprox/main.c` and the method of interest is `compute_pi`. The module follows the Python/C API standard and defines a module named `cpiapprox` with a single method `compute_pi` that accepts an `unsigned int` as an argument a.k.a the number of partitions to divide the area in. Greater the number of partition, better the approximation of $\\pi$.\n",
    "\n",
    "\n",
    "### Compilation\n",
    "\n",
    "To compile the source code into a shared library that can be imported simple run\n",
    "\n",
    "```bash\n",
    "python setup.py build\n",
    "python setup.py install\n",
    "```\n",
    "from the directory containing the source code.\n"
   ]
  },
  {
   "cell_type": "code",
   "execution_count": null,
   "metadata": {},
   "outputs": [],
   "source": [
    "import cpiapprox\n",
    "import covalent as ct\n",
    "from typing import List"
   ]
  },
  {
   "cell_type": "code",
   "execution_count": null,
   "metadata": {},
   "outputs": [],
   "source": [
    "@ct.electron\n",
    "def compute_pi(N: int):\n",
    "    \"\"\"\n",
    "    :param N: number of partitions to use to approximate PI\n",
    "    \"\"\"\n",
    "    return cpiapprox.compute_pi(N)\n",
    "\n",
    "@ct.lattice\n",
    "def approximate_pi(partitions: List[int]):\n",
    "    results = []\n",
    "    for n in partitions:\n",
    "        results.append(compute_pi(n))\n",
    "    return results\n",
    "\n",
    "\n",
    "dispatch_id = ct.dispatch(approximate_pi)([10, 10000, 1000000, 1000000000])\n",
    "result = ct.get_result(dispatch_id, wait=True)\n",
    "print(result)\n"
   ]
  },
  {
   "cell_type": "markdown",
   "metadata": {},
   "source": [
    "### Interfacing with C++\n",
    "\n",
    "Covalent can be interfaced with C++ in a similar manner if one can expose their `C++` library as a Python module to Covalent. There are numerous open source wrappers available like `PyBind11/SWIG`. We here show how pure C++ functions can be invoked as Covalent electrons after being exposed via `PyBind11`.\n",
    "\n",
    "More information on `PyBind11` can be found [here](https://github.com/pybind/pybind11). To install `pybind11`, simply run\n",
    "\n",
    "```bash\n",
    "pip install pybind11\n",
    "```\n",
    "\n",
    "As an example, we write a `C++` module `cpparithmetic` that performs simple elementwise vector arthimetic on two input `std::vectors`. The source code for this module can be found in `cpparthimetic/main.cc`.\n",
    "\n",
    "To compile the source, use the provided `setup.py` file.\n",
    "\n",
    "```bash\n",
    "python setup.py build\n",
    "python setup.py install\n",
    "```"
   ]
  },
  {
   "cell_type": "code",
   "execution_count": 1,
   "metadata": {},
   "outputs": [],
   "source": [
    "import cpparthimetic\n",
    "import covalent as ct\n",
    "import random\n",
    "from typing import List\n",
    "import time"
   ]
  },
  {
   "cell_type": "markdown",
   "metadata": {},
   "source": [
    "### C++ workflows"
   ]
  },
  {
   "cell_type": "code",
   "execution_count": 15,
   "metadata": {},
   "outputs": [],
   "source": [
    "@ct.electron\n",
    "def generate_lists(size: int):\n",
    "    return [random.uniform(1, 10) for i in range(size)]\n",
    "\n",
    "@ct.electron\n",
    "def cppadd(a, b):\n",
    "    return cpparthimetic.vecadd(a, b)\n",
    "\n",
    "@ct.electron\n",
    "def cppmul(a, b):\n",
    "    return cpparthimetic.vecmul(a, b)\n",
    "\n",
    "@ct.electron\n",
    "def cppdiv(a, b):\n",
    "    return cpparthimetic.vecdiv(a, b)\n",
    "\n",
    "@ct.lattice\n",
    "def cppadd_workflow(size):\n",
    "    a = generate_lists(size)\n",
    "    b = generate_lists(size)\n",
    "    c = cppadd(a, b)\n",
    "    return c\n",
    "\n",
    "@ct.lattice\n",
    "def cppmul_workflow(size):\n",
    "    a = generate_lists(size)\n",
    "    b = generate_lists(size)\n",
    "    c = cppmul(a, b)\n",
    "    return c\n",
    "\n",
    "@ct.lattice\n",
    "def cppdiv_workflow(size):\n",
    "    a = generate_lists(size)\n",
    "    b = generate_lists(size)\n",
    "    c = cppdiv(a, b)\n",
    "    return c"
   ]
  },
  {
   "cell_type": "code",
   "execution_count": 16,
   "metadata": {},
   "outputs": [],
   "source": [
    "N = 2**4"
   ]
  },
  {
   "cell_type": "code",
   "execution_count": 17,
   "metadata": {},
   "outputs": [],
   "source": [
    "dispatch_ids = [ct.dispatch(cppadd_workflow)(N), ct.dispatch(cppmul_workflow)(N), ct.dispatch(cppdiv_workflow)(N)]"
   ]
  },
  {
   "cell_type": "code",
   "execution_count": 19,
   "metadata": {},
   "outputs": [],
   "source": [
    "results = [ct.get_result(dispatch_id, wait=True).result for dispatch_id in dispatch_ids]"
   ]
  },
  {
   "cell_type": "code",
   "execution_count": 20,
   "metadata": {},
   "outputs": [
    {
     "name": "stdout",
     "output_type": "stream",
     "text": [
      "[[8.262604904861552, 5.7566025790075575, 11.225241943046143, 7.297648911278621, 6.2004686100115975, 10.51496835221824, 13.714510093306387, 13.611023313699421, 12.144342316776443, 8.83126056429222, 7.38777641805463, 14.92542194880808, 9.001418834171856, 4.615744987911637, 8.84215084864721, 16.820841311326216], [51.773142933143276, 32.641198291348374, 63.259810113064944, 46.422185568189605, 16.832517090292864, 10.165527651589564, 24.91730312926613, 12.850439327862977, 4.72067092473866, 23.250522299938282, 40.86972251805796, 41.89140006732969, 32.74110262789796, 5.2884212352824935, 54.73076474361397, 14.165467704363962], [0.38921842387660177, 2.0585561806582144, 1.0886773829577225, 4.3297955353924475, 1.1896746314004352, 0.9525462232698703, 0.39332332223009064, 1.1590212034679328, 2.0449599797709386, 0.3091788475869194, 0.3393931532044408, 0.8876535296309052, 0.1706004840790428, 2.0798134895030134, 0.7698803193989625, 1.0122915751941892]]\n"
     ]
    }
   ],
   "source": [
    "print(results)"
   ]
  }
 ],
 "metadata": {
  "kernelspec": {
   "display_name": "Python 3 (ipykernel)",
   "language": "python",
   "name": "python3"
  },
  "language_info": {
   "codemirror_mode": {
    "name": "ipython",
    "version": 3
   },
   "file_extension": ".py",
   "mimetype": "text/x-python",
   "name": "python",
   "nbconvert_exporter": "python",
   "pygments_lexer": "ipython3",
   "version": "3.8.13"
  },
  "vscode": {
   "interpreter": {
    "hash": "4604952b9ddbd260dd73fdb5cff5f484d6b1e3984d5eb828a72400f80bc93c07"
   }
  }
 },
 "nbformat": 4,
 "nbformat_minor": 4
}
