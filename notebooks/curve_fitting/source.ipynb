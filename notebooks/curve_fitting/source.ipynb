{
 "cells": [
  {
   "cell_type": "markdown",
   "metadata": {},
   "source": [
    "## Curve fitting example with Covalent"
   ]
  },
  {
   "cell_type": "code",
   "execution_count": 1,
   "metadata": {},
   "outputs": [],
   "source": [
    "import numpy as np\n",
    "import covalent as ct\n",
    "import matplotlib.pyplot as plt"
   ]
  },
  {
   "cell_type": "markdown",
   "metadata": {},
   "source": [
    "### Raw code\n",
    "\n",
    "```python\n",
    "x = [1, 2, 3, 9]\n",
    "y = [1, 4, 1, 3]\n",
    "```\n",
    "\n",
    "### Fit\n",
    "```python\n",
    "fit = np.polyfit(x, y, 3)\n",
    "xnew = np.linspace(x[0], x[-1], 50)\n",
    "ynew = fit(xnew)\n",
    "```\n",
    "\n",
    "\n",
    "# plot\n",
    "```python\n",
    "fig, ax = plt.subplots()\n",
    "plt.plot(x, y, 'o', xnew, ynew)\n",
    "plt.xlim(x[0]-1, x[-1]+1)\n",
    "```"
   ]
  },
  {
   "cell_type": "markdown",
   "metadata": {},
   "source": [
    "### Functionalize the code (structured)"
   ]
  },
  {
   "cell_type": "code",
   "execution_count": 2,
   "metadata": {},
   "outputs": [],
   "source": [
    "def fit_xy(x, y):\n",
    "    z = np.polyfit(x, y, 3)\n",
    "    return np.poly1d(z)\n",
    "\n",
    "def plot_fit(x, y, xnew, fit):\n",
    "    ynew = fit(xnew)\n",
    "    fig, ax = plt.subplots()\n",
    "    plt.plot(x, y, 'o')\n",
    "    plt.plot(xnew, ynew, '-')\n",
    "    plt.xlim([x[0]-1, x[-1]+1])\n",
    "    return ax\n",
    "\n",
    "def exp(x, y):\n",
    "    xnew = np.linspace(x[0], x[-1], 50)\n",
    "    fit = fit_xy(x=x, y=y)\n",
    "    return plot_fit(x=x, y=y, xnew=xnew, fit=fit)"
   ]
  },
  {
   "cell_type": "markdown",
   "metadata": {},
   "source": [
    "## Covalentify workflow"
   ]
  },
  {
   "cell_type": "markdown",
   "metadata": {},
   "source": [
    "### Make `fit_xy` electron"
   ]
  },
  {
   "cell_type": "code",
   "execution_count": 7,
   "metadata": {},
   "outputs": [],
   "source": [
    "@ct.electron\n",
    "def fit_xy(x, y):\n",
    "   z = np.polyfit(x, y, 3)\n",
    "   return np.poly1d(z)"
   ]
  },
  {
   "cell_type": "markdown",
   "metadata": {},
   "source": [
    "### Make an electron to plot the results"
   ]
  },
  {
   "cell_type": "code",
   "execution_count": 8,
   "metadata": {},
   "outputs": [],
   "source": [
    "@ct.electron\n",
    "def plot_fit(x, y, xnew, fit):\n",
    "   ynew = fit(xnew)\n",
    "   fig, ax = plt.subplots()\n",
    "   plt.plot(x, y, 'o')\n",
    "   plt.plot(xnew, ynew, '-')\n",
    "   plt.xlim([x[0]-1, x[-1]+1])\n",
    "   return ax"
   ]
  },
  {
   "cell_type": "markdown",
   "metadata": {},
   "source": [
    "### Create lattice for curve fitting (workflow)"
   ]
  },
  {
   "cell_type": "code",
   "execution_count": 9,
   "metadata": {},
   "outputs": [],
   "source": [
    "@ct.lattice\n",
    "def exp(x, y):\n",
    "   xnew = np.linspace(x[0], x[-1], 50)\n",
    "   fit = fit_xy(x=x, y=y)\n",
    "   return plot_fit(x=x, y=y, xnew=xnew, fit=fit)"
   ]
  },
  {
   "cell_type": "markdown",
   "metadata": {},
   "source": [
    "### Dispatch workflow to covalent server (localhost:48008)"
   ]
  },
  {
   "cell_type": "code",
   "execution_count": 4,
   "metadata": {},
   "outputs": [
    {
     "name": "stdout",
     "output_type": "stream",
     "text": [
      "af9a3314-e377-40b0-9395-752f4f86f004\n"
     ]
    }
   ],
   "source": [
    "dispatch_id = ct.dispatch(exp)(x = [1,2,3,9], y = [1, 4, 1, 3])\n",
    "print(dispatch_id)"
   ]
  },
  {
   "cell_type": "markdown",
   "metadata": {},
   "source": [
    "[Covalent Server UI](http://localhost:48008)"
   ]
  },
  {
   "cell_type": "markdown",
   "metadata": {},
   "source": [
    "### Curve fitting workflow\n",
    "\n",
    "![Curve fitting](./assets/curve_fitting.png)"
   ]
  },
  {
   "cell_type": "code",
   "execution_count": 5,
   "metadata": {},
   "outputs": [],
   "source": [
    "result = ct.get_result(dispatch_id=dispatch_id, wait=True)"
   ]
  },
  {
   "cell_type": "code",
   "execution_count": 6,
   "metadata": {},
   "outputs": [
    {
     "name": "stdout",
     "output_type": "stream",
     "text": [
      "\n",
      "Lattice Result\n",
      "==============\n",
      "status: COMPLETED\n",
      "result: AxesSubplot(0.125,0.11;0.775x0.77)\n",
      "input args: []\n",
      "input kwargs: {'x': '[1, 2, 3, 9]', 'y': '[1, 4, 1, 3]'}\n",
      "error: \n",
      "\n",
      "start_time: 2022-09-05 14:27:08.843380\n",
      "end_time: 2022-09-05 14:27:10.660647\n",
      "\n",
      "results_dir: /home/venkat/tutorials_covalent_ieee_2022/notebooks/curve_fitting/results\n",
      "dispatch_id: af9a3314-e377-40b0-9395-752f4f86f004\n",
      "\n",
      "Node Outputs\n",
      "------------\n",
      "fit_xy(0):         3         2\n",
      "0.4345 x - 5.607 x + 16.78 x - 10.61\n",
      ":electron_list:(1): [1, 2, 3, 9]\n",
      ":parameter:1(2): 1\n",
      ":parameter:2(3): 2\n",
      ":parameter:3(4): 3\n",
      ":parameter:9(5): 9\n",
      ":electron_list:(6): [1, 4, 1, 3]\n",
      ":parameter:1(7): 1\n",
      ":parameter:4(8): 4\n",
      ":parameter:1(9): 1\n",
      ":parameter:3(10): 3\n",
      "plot_fit(11): AxesSubplot(0.125,0.11;0.775x0.77)\n",
      ":electron_list:(12): [1, 2, 3, 9]\n",
      ":parameter:1(13): 1\n",
      ":parameter:2(14): 2\n",
      ":parameter:3(15): 3\n",
      ":parameter:9(16): 9\n",
      ":electron_list:(17): [1, 4, 1, 3]\n",
      ":parameter:1(18): 1\n",
      ":parameter:4(19): 4\n",
      ":parameter:1(20): 1\n",
      ":parameter:3(21): 3\n",
      ":parameter:[1.         1.16326531 1.32653061 1.48979592 1.65306122 1.81632653\n",
      " 1.97959184 2.14285714 2.30612245 2.46938776 2.63265306 2.79591837\n",
      " 2.95918367 3.12244898 3.28571429 3.44897959 3.6122449  3.7755102\n",
      " 3.93877551 4.10204082 4.26530612 4.42857143 4.59183673 4.75510204\n",
      " 4.91836735 5.08163265 5.24489796 5.40816327 5.57142857 5.73469388\n",
      " 5.89795918 6.06122449 6.2244898  6.3877551  6.55102041 6.71428571\n",
      " 6.87755102 7.04081633 7.20408163 7.36734694 7.53061224 7.69387755\n",
      " 7.85714286 8.02040816 8.18367347 8.34693878 8.51020408 8.67346939\n",
      " 8.83673469 9.        ](22): [1.         1.16326531 1.32653061 1.48979592 1.65306122 1.81632653\n",
      " 1.97959184 2.14285714 2.30612245 2.46938776 2.63265306 2.79591837\n",
      " 2.95918367 3.12244898 3.28571429 3.44897959 3.6122449  3.7755102\n",
      " 3.93877551 4.10204082 4.26530612 4.42857143 4.59183673 4.75510204\n",
      " 4.91836735 5.08163265 5.24489796 5.40816327 5.57142857 5.73469388\n",
      " 5.89795918 6.06122449 6.2244898  6.3877551  6.55102041 6.71428571\n",
      " 6.87755102 7.04081633 7.20408163 7.36734694 7.53061224 7.69387755\n",
      " 7.85714286 8.02040816 8.18367347 8.34693878 8.51020408 8.67346939\n",
      " 8.83673469 9.        ]\n",
      "\n"
     ]
    },
    {
     "data": {
      "image/png": "[encoded data removed]",
      "text/plain": [
       "<Figure size 640x480 with 1 Axes>"
      ]
     },
     "metadata": {},
     "output_type": "display_data"
    }
   ],
   "source": [
    "print(result)"
   ]
  },
  {
   "cell_type": "markdown",
   "metadata": {},
   "source": []
  }
 ],
 "metadata": {
  "kernelspec": {
   "display_name": "Python 3.8.13 ('ieee')",
   "language": "python",
   "name": "python3"
  },
  "language_info": {
   "codemirror_mode": {
    "name": "ipython",
    "version": 3
   },
   "file_extension": ".py",
   "mimetype": "text/x-python",
   "name": "python",
   "nbconvert_exporter": "python",
   "pygments_lexer": "ipython3",
   "version": "3.8.13"
  },
  "orig_nbformat": 4,
  "vscode": {
   "interpreter": {
    "hash": "4604952b9ddbd260dd73fdb5cff5f484d6b1e3984d5eb828a72400f80bc93c07"
   }
  }
 },
 "nbformat": 4,
 "nbformat_minor": 2
}
