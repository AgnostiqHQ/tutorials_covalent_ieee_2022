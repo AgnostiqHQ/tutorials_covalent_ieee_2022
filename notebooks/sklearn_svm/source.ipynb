{
 "cells": [
  {
   "cell_type": "markdown",
   "metadata": {},
   "source": [
    "### Recognizing hand written digits\n",
    "\n",
    "* Example adopted from [scikit-learn](https://scikit-learn.org/stable/auto_examples/classification/plot_digits_classification.html#sphx-glr-auto-examples-classification-plot-digits-classification-py)\n",
    "\n",
    "* Train a SVM classifier to recognize hand written digits from [0-9]\n",
    "\n",
    "* Datasets consists of `8x8` pixel images of digits"
   ]
  },
  {
   "cell_type": "code",
   "execution_count": null,
   "metadata": {},
   "outputs": [],
   "source": [
    "import covalent as ct\n",
    "from sklearn import datasets, svm, metrics\n",
    "from sklearn.metrics import accuracy_score\n",
    "from sklearn.model_selection import train_test_split"
   ]
  },
  {
   "cell_type": "markdown",
   "metadata": {},
   "source": [
    "### Break the training/model building into discrete steps\n",
    "\n",
    "1. Load and prepare the dataset\n",
    "\n",
    "2. Instantiate a base classifier\n",
    "\n",
    "3. Split entire dataset into `training` and `test` sets\n",
    "\n",
    "4. Train the classifier using the `training` set\n",
    "\n",
    "5. Get predictions using the `test` set\n",
    "\n",
    "6. Generate classification report"
   ]
  },
  {
   "cell_type": "markdown",
   "metadata": {},
   "source": [
    "### Load the dataset\n"
   ]
  },
  {
   "cell_type": "code",
   "execution_count": null,
   "metadata": {},
   "outputs": [],
   "source": [
    "@ct.electron\n",
    "def load_dataset():\n",
    "    return datasets.load_digits()"
   ]
  },
  {
   "cell_type": "markdown",
   "metadata": {},
   "source": [
    "### Instantiate a SVM classifier"
   ]
  },
  {
   "cell_type": "code",
   "execution_count": null,
   "metadata": {},
   "outputs": [],
   "source": [
    "@ct.electron\n",
    "def build_classifier(gamma: float):\n",
    "    return svm.SVC(gamma = gamma)"
   ]
  },
  {
   "cell_type": "markdown",
   "metadata": {},
   "source": [
    "### Split the dataset into train/test splits"
   ]
  },
  {
   "cell_type": "code",
   "execution_count": null,
   "metadata": {},
   "outputs": [],
   "source": [
    "@ct.electron\n",
    "def split_data(features, targets, test_set_size):\n",
    "    x_train, x_test, y_train, y_test = train_test_split(features, targets, test_size=test_set_size, shuffle=False)\n",
    "    return x_train, x_test, y_train, y_test"
   ]
  },
  {
   "cell_type": "markdown",
   "metadata": {},
   "source": [
    "### Train the classifier"
   ]
  },
  {
   "cell_type": "code",
   "execution_count": null,
   "metadata": {},
   "outputs": [],
   "source": [
    "@ct.electron\n",
    "def train_classifier(clf, features, targets):\n",
    "    return clf.fit(features, targets)"
   ]
  },
  {
   "cell_type": "markdown",
   "metadata": {},
   "source": [
    "### Get model predictions"
   ]
  },
  {
   "cell_type": "code",
   "execution_count": null,
   "metadata": {},
   "outputs": [],
   "source": [
    "@ct.electron\n",
    "def get_predictions(clf, test_features):\n",
    "    return clf.predict(test_features)"
   ]
  },
  {
   "cell_type": "markdown",
   "metadata": {},
   "source": [
    "### Generate classification report"
   ]
  },
  {
   "cell_type": "code",
   "execution_count": null,
   "metadata": {},
   "outputs": [],
   "source": [
    "@ct.electron\n",
    "def get_classification_report(y_test, predictions):\n",
    "    return metrics.classification_report(y_test, predictions)"
   ]
  },
  {
   "cell_type": "markdown",
   "metadata": {},
   "source": [
    "### Build the ML workflow"
   ]
  },
  {
   "cell_type": "code",
   "execution_count": null,
   "metadata": {},
   "outputs": [],
   "source": [
    "@ct.lattice\n",
    "def classify_digits(gamma: float):\n",
    "    dataset = load_dataset()\n",
    "    clf = build_classifier(gamma)\n",
    "    x_train, x_test, y_train, y_test = split_data(features=dataset.data, targets=dataset.target, test_set_size=0.5)\n",
    "    clf = train_classifier(clf, features=x_train, targets=y_train)\n",
    "    predictions = get_predictions(clf, x_test)\n",
    "    clf_report = get_classification_report(y_test, predictions)\n",
    "    return y_test, predictions, clf_report"
   ]
  },
  {
   "cell_type": "markdown",
   "metadata": {},
   "source": [
    "#### Workflow graph\n",
    "\n",
    "![SVM workflow](./assets/svm_ml_workflow.png)"
   ]
  },
  {
   "cell_type": "markdown",
   "metadata": {},
   "source": [
    "### Dispatch the training workflow"
   ]
  },
  {
   "cell_type": "code",
   "execution_count": null,
   "metadata": {},
   "outputs": [],
   "source": [
    "dispatch_id = ct.dispatch(classify_digits)(gamma=0.001)"
   ]
  },
  {
   "cell_type": "code",
   "execution_count": null,
   "metadata": {},
   "outputs": [],
   "source": [
    "result = ct.get_result(dispatch_id=dispatch_id, wait=True)"
   ]
  },
  {
   "cell_type": "code",
   "execution_count": null,
   "metadata": {},
   "outputs": [],
   "source": [
    "y_test, predictions, clf_report = result.result"
   ]
  },
  {
   "cell_type": "markdown",
   "metadata": {},
   "source": [
    "#### Classification report"
   ]
  },
  {
   "cell_type": "code",
   "execution_count": null,
   "metadata": {},
   "outputs": [],
   "source": [
    "print(clf_report)"
   ]
  },
  {
   "cell_type": "code",
   "execution_count": null,
   "metadata": {},
   "outputs": [],
   "source": [
    "metrics.ConfusionMatrixDisplay.from_predictions(y_test, predictions)"
   ]
  },
  {
   "cell_type": "markdown",
   "metadata": {},
   "source": [
    "## Sublattices\n",
    "\n",
    "In the above example, we arbitrarily chose $\\gamma = 0.001$ for the classifier, however this may not the be most optimial choice for this parameter. In machine learning, hyper-parameter optimization is a crucial step in improving the model's performance and to find the subset of parameters that yield the best predictor/classifier.\n",
    "\n",
    "With `Covalent` iterating exsiting workflows and making them larger by composing is very simple. We can create larger and re-usable workflows by simply decorating existing lattices with the `electron` keyword. This essentially creates a lattice that can be embedded within a larger workflow (`sublattice`)\n",
    "\n",
    "In the context of optimizing our SVM classifier, we can make the `classify_workflow` a sublattice and make that a node in a larger workflow"
   ]
  },
  {
   "cell_type": "code",
   "execution_count": null,
   "metadata": {},
   "outputs": [],
   "source": [
    "@ct.electron\n",
    "def get_model_accuracy_score(y_test, predictions):\n",
    "    return accuracy_score(y_test, predictions)*100"
   ]
  },
  {
   "cell_type": "code",
   "execution_count": null,
   "metadata": {},
   "outputs": [],
   "source": [
    "@ct.electron\n",
    "@ct.lattice\n",
    "def classify_digits(gamma: float):\n",
    "    dataset = load_dataset()\n",
    "    clf = build_classifier(gamma)\n",
    "    x_train, x_test, y_train, y_test = split_data(features=dataset.data, targets=dataset.target, test_set_size=0.5)\n",
    "    clf = train_classifier(clf, features=x_train, targets=y_train)\n",
    "    predictions = get_predictions(clf, x_test)\n",
    "    clf_report = get_classification_report(y_test, predictions)\n",
    "    return y_test, predictions, clf_report"
   ]
  },
  {
   "cell_type": "markdown",
   "metadata": {},
   "source": [
    "### Workflow for tuning $\\gamma$"
   ]
  },
  {
   "cell_type": "code",
   "execution_count": null,
   "metadata": {},
   "outputs": [],
   "source": [
    "@ct.lattice\n",
    "def hyperparameter_tune_gamma(gamma_values):\n",
    "    results = {}\n",
    "    for gamma in gamma_values:\n",
    "        results[f\"{gamma}\"] = {}\n",
    "        y_test, predictions, clf_report = classify_digits(gamma)\n",
    "        results[f\"{gamma}\"][\"accuracy\"] = get_model_accuracy_score(y_test, predictions)\n",
    "    return results"
   ]
  },
  {
   "cell_type": "code",
   "execution_count": null,
   "metadata": {},
   "outputs": [],
   "source": [
    "import numpy as np\n",
    "gamma_values = np.linspace(0.001, 0.003, 10)\n",
    "dispatch_id = ct.dispatch(hyperparameter_tune_gamma)(gamma_values)\n",
    "print(dispatch_id)"
   ]
  },
  {
   "cell_type": "code",
   "execution_count": null,
   "metadata": {},
   "outputs": [],
   "source": [
    "results = ct.get_result(dispatch_id=dispatch_id, wait=True)"
   ]
  },
  {
   "cell_type": "code",
   "execution_count": null,
   "metadata": {},
   "outputs": [],
   "source": [
    "for gamma in gamma_values:\n",
    "    print(f\"Gamma: {gamma}\", f\"score: {results.result[f'{gamma}']['accuracy']}\")"
   ]
  }
 ],
 "metadata": {
  "kernelspec": {
   "display_name": "Python 3.8.13 ('ieee')",
   "language": "python",
   "name": "python3"
  },
  "language_info": {
   "codemirror_mode": {
    "name": "ipython",
    "version": 3
   },
   "file_extension": ".py",
   "mimetype": "text/x-python",
   "name": "python",
   "nbconvert_exporter": "python",
   "pygments_lexer": "ipython3",
   "version": "3.8.13"
  },
  "orig_nbformat": 4,
  "vscode": {
   "interpreter": {
    "hash": "4604952b9ddbd260dd73fdb5cff5f484d6b1e3984d5eb828a72400f80bc93c07"
   }
  }
 },
 "nbformat": 4,
 "nbformat_minor": 2
}
