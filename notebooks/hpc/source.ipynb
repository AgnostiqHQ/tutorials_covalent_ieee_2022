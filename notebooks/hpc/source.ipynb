{
 "cells": [
  {
   "cell_type": "code",
   "execution_count": 70,
   "metadata": {},
   "outputs": [],
   "source": [
    "import carthimetic\n",
    "import cpparthimetic\n",
    "import time\n",
    "import covalent as ct\n",
    "import random"
   ]
  },
  {
   "cell_type": "code",
   "execution_count": 71,
   "metadata": {},
   "outputs": [],
   "source": [
    "@ct.electron\n",
    "def generate_lists(size: int):\n",
    "    return [random.uniform(1, 10) for i in range(size)]"
   ]
  },
  {
   "cell_type": "code",
   "execution_count": 72,
   "metadata": {},
   "outputs": [],
   "source": [
    "@ct.electron\n",
    "def pyadd(a, b):\n",
    "    return [a[i] + b[i] for i in range(len(a))]"
   ]
  },
  {
   "cell_type": "markdown",
   "metadata": {},
   "source": [
    "### Add workflow"
   ]
  },
  {
   "cell_type": "code",
   "execution_count": 73,
   "metadata": {},
   "outputs": [],
   "source": [
    "@ct.lattice\n",
    "@ct.electron\n",
    "def cppadd_workflow(size):\n",
    "    a = generate_lists(size)\n",
    "    b = generate_lists(size)\n",
    "    return cpparthimetic.vecadd(a, b)\n",
    "\n",
    "\n",
    "@ct.lattice\n",
    "@ct.electron\n",
    "def cppmul_workflow(size):\n",
    "    a = generate_lists(size)\n",
    "    b = generate_lists(size)\n",
    "    return cpparthimetic.vecmul(a, b)\n",
    "\n",
    "@ct.lattice\n",
    "@ct.electron\n",
    "def pyadd_workflow(size):\n",
    "    a = generate_lists(size)\n",
    "    b = generate_lists(size)\n",
    "    return pyadd(a, b)"
   ]
  },
  {
   "cell_type": "code",
   "execution_count": 74,
   "metadata": {},
   "outputs": [],
   "source": [
    "N = 2**10"
   ]
  },
  {
   "cell_type": "code",
   "execution_count": 75,
   "metadata": {},
   "outputs": [],
   "source": [
    "dispatch_id = ct.dispatch(cppadd_workflow)(N)\n",
    "cppadd_result = ct.get_result(dispatch_id, wait=True)\n",
    "\n",
    "dispatch_id = ct.dispatch(cppmul_workflow)(N)\n",
    "cppmul_result = ct.get_result(dispatch_id, wait=True)"
   ]
  },
  {
   "cell_type": "code",
   "execution_count": 64,
   "metadata": {},
   "outputs": [],
   "source": [
    "dispatch_id = ct.dispatch(pyadd_workflow)(N)\n",
    "pyadd_result = ct.get_result(dispatch_id, wait=True)"
   ]
  },
  {
   "cell_type": "code",
   "execution_count": 76,
   "metadata": {},
   "outputs": [],
   "source": [
    "cppduration= cppadd_result.end_time - cppadd_result.start_time\n",
    "cppmulduration = cppmul_result.end_time - cppmul_result.start_time\n",
    "pyduration = pyadd_result.end_time - pyadd_result.start_time"
   ]
  },
  {
   "cell_type": "code",
   "execution_count": 77,
   "metadata": {},
   "outputs": [
    {
     "data": {
      "text/plain": [
       "datetime.timedelta(microseconds=63350)"
      ]
     },
     "execution_count": 77,
     "metadata": {},
     "output_type": "execute_result"
    }
   ],
   "source": [
    "cppmulduration"
   ]
  },
  {
   "cell_type": "code",
   "execution_count": 67,
   "metadata": {},
   "outputs": [
    {
     "data": {
      "text/plain": [
       "datetime.timedelta(microseconds=86676)"
      ]
     },
     "execution_count": 67,
     "metadata": {},
     "output_type": "execute_result"
    }
   ],
   "source": [
    "cppduration"
   ]
  },
  {
   "cell_type": "code",
   "execution_count": null,
   "metadata": {},
   "outputs": [],
   "source": []
  }
 ],
 "metadata": {
  "kernelspec": {
   "display_name": "Python 3 (ipykernel)",
   "language": "python",
   "name": "python3"
  },
  "language_info": {
   "codemirror_mode": {
    "name": "ipython",
    "version": 3
   },
   "file_extension": ".py",
   "mimetype": "text/x-python",
   "name": "python",
   "nbconvert_exporter": "python",
   "pygments_lexer": "ipython3",
   "version": "3.8.13"
  },
  "vscode": {
   "interpreter": {
    "hash": "4604952b9ddbd260dd73fdb5cff5f484d6b1e3984d5eb828a72400f80bc93c07"
   }
  }
 },
 "nbformat": 4,
 "nbformat_minor": 4
}
